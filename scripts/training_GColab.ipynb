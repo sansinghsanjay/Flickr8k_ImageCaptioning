{
 "cells": [
  {
   "cell_type": "code",
   "execution_count": 1,
   "metadata": {
    "colab": {
     "base_uri": "https://localhost:8080/",
     "height": 53
    },
    "executionInfo": {
     "elapsed": 4443,
     "status": "ok",
     "timestamp": 1620644992587,
     "user": {
      "displayName": "Gpu User",
      "photoUrl": "",
      "userId": "05020043369902705889"
     },
     "user_tz": -330
    },
    "id": "Sz0Ng-UCFWc2",
    "outputId": "28fdfc80-8a69-441b-cc79-eac24e506552"
   },
   "outputs": [
    {
     "data": {
      "application/vnd.google.colaboratory.intrinsic+json": {
       "type": "string"
      },
      "text/plain": [
       "'\\nSanjay Singh\\nsan.singhsanjay@gmail.com\\nApril-2021\\nTo train a neural network for Image Captioning - on Google Colab\\nThis script file is copy of script_training.py, only paths have changed in this file to make it to work on Google Colab\\n'"
      ]
     },
     "execution_count": 1,
     "metadata": {
      "tags": []
     },
     "output_type": "execute_result"
    }
   ],
   "source": [
    "'''\n",
    "Sanjay Singh\n",
    "san.singhsanjay@gmail.com\n",
    "April-2021\n",
    "To train a neural network for Image Captioning - on Google Colab\n",
    "This script file is copy of script_training.py, only paths have changed in this file to make it to work on Google Colab\n",
    "'''"
   ]
  },
  {
   "cell_type": "code",
   "execution_count": 2,
   "metadata": {
    "colab": {
     "base_uri": "https://localhost:8080/"
    },
    "executionInfo": {
     "elapsed": 33703,
     "status": "ok",
     "timestamp": 1620645021874,
     "user": {
      "displayName": "Gpu User",
      "photoUrl": "",
      "userId": "05020043369902705889"
     },
     "user_tz": -330
    },
    "id": "lzqmLeFQHvwK",
    "outputId": "f8f89c43-6ed5-43de-b60b-ae7aa1da8814"
   },
   "outputs": [
    {
     "name": "stdout",
     "output_type": "stream",
     "text": [
      "Mounted at /content/gdrive\n"
     ]
    }
   ],
   "source": [
    "# start by connecting gdrive into the google colab\n",
    "from google.colab import drive\n",
    "drive.mount(\"/content/gdrive\")"
   ]
  },
  {
   "cell_type": "code",
   "execution_count": 3,
   "metadata": {
    "executionInfo": {
     "elapsed": 35123,
     "status": "ok",
     "timestamp": 1620645023304,
     "user": {
      "displayName": "Gpu User",
      "photoUrl": "",
      "userId": "05020043369902705889"
     },
     "user_tz": -330
    },
    "id": "Ta63BKv9FnRI"
   },
   "outputs": [],
   "source": [
    "# packages\n",
    "import numpy as np\n",
    "from numpy import array\n",
    "from numpy import savetxt\n",
    "import pandas as pd\n",
    "from keras.preprocessing import sequence\n",
    "from keras.models import Sequential\n",
    "from keras.layers import LSTM, Embedding, TimeDistributed, Dense, RepeatVector,\\\n",
    "                         Activation, Flatten, Reshape, concatenate, Dropout, BatchNormalization\n",
    "from keras.optimizers import Adam, RMSprop\n",
    "from keras.layers.wrappers import Bidirectional\n",
    "from keras.layers.merge import add\n",
    "from keras.applications.inception_v3 import InceptionV3\n",
    "from keras.preprocessing import image\n",
    "from keras.models import Model\n",
    "from keras import Input, layers\n",
    "from keras import optimizers\n",
    "from keras.applications.inception_v3 import preprocess_input\n",
    "from keras.preprocessing.text import Tokenizer\n",
    "from keras.preprocessing.sequence import pad_sequences\n",
    "from keras.utils import to_categorical"
   ]
  },
  {
   "cell_type": "code",
   "execution_count": 4,
   "metadata": {
    "executionInfo": {
     "elapsed": 35119,
     "status": "ok",
     "timestamp": 1620645023311,
     "user": {
      "displayName": "Gpu User",
      "photoUrl": "",
      "userId": "05020043369902705889"
     },
     "user_tz": -330
    },
    "id": "blnZBsUaFtLN"
   },
   "outputs": [],
   "source": [
    "# constants\n",
    "EPOCHS = 20\n",
    "NUMBER_PICS_PER_BATCH = 3\n",
    "EMBEDDING_DIM = 200"
   ]
  },
  {
   "cell_type": "code",
   "execution_count": 5,
   "metadata": {
    "executionInfo": {
     "elapsed": 35115,
     "status": "ok",
     "timestamp": 1620645023317,
     "user": {
      "displayName": "Gpu User",
      "photoUrl": "",
      "userId": "05020043369902705889"
     },
     "user_tz": -330
    },
    "id": "0HyMpXuOFxRB"
   },
   "outputs": [],
   "source": [
    "# function to update status\n",
    "def percentage_progress(completed, total):\n",
    "\tperc_progress = (completed / total) * 100\n",
    "\tperc_progress = round(perc_progress, 2)\n",
    "\treturn perc_progress"
   ]
  },
  {
   "cell_type": "code",
   "execution_count": 6,
   "metadata": {
    "executionInfo": {
     "elapsed": 35112,
     "status": "ok",
     "timestamp": 1620645023323,
     "user": {
      "displayName": "Gpu User",
      "photoUrl": "",
      "userId": "05020043369902705889"
     },
     "user_tz": -330
    },
    "id": "_efLZZUzF0LH"
   },
   "outputs": [],
   "source": [
    "# data generator function\n",
    "'''\n",
    "To run parts of this function in ipython without calling function\n",
    "image_name_captions = train_image_caption\n",
    "image_features = train_image_feature\n",
    "num_pics_per_batch = NUMBER_PICS_PER_BATCH\n",
    "'''\n",
    "def data_generator(image_name_captions, image_features, wordtoix, max_caption_length, vocab_size, num_pics_per_batch):\n",
    "\tX1, X2, y = list(), list(), list()\n",
    "\tn = 0\n",
    "\twhile(True):\n",
    "\t\tfor i in range(image_name_captions.shape[0]):\n",
    "\t\t\tn += 1\n",
    "\t\t\timage_name = image_name_captions.iloc[i]['image']\n",
    "\t\t\timage_feature = image_features[image_name]\n",
    "\t\t\tcaptions = image_name_captions.iloc[i]['caption']\n",
    "\t\t\tcaptions_list = captions.split(\"#\")\n",
    "\t\t\tfor caption in captions_list:\n",
    "\t\t\t\tseq = [wordtoix[word] for word in caption.split(' ') if word in wordtoix]\n",
    "\t\t\t\tfor j in range(len(seq)):\n",
    "\t\t\t\t\tin_seq, out_seq = seq[:j], seq[j]\n",
    "\t\t\t\t\tin_seq = pad_sequences([in_seq], maxlen=max_caption_length, padding='post')[0]\n",
    "\t\t\t\t\tout_seq = to_categorical([out_seq], num_classes=vocab_size)[0]\n",
    "\t\t\t\t\tX1.append(image_feature)\n",
    "\t\t\t\t\tX2.append(in_seq)\n",
    "\t\t\t\t\ty.append(out_seq)\n",
    "\t\t\tif(n == num_pics_per_batch):\n",
    "\t\t\t\tyield [array(X1), array(X2)], array(y)\n",
    "\t\t\t\tX1, X2, y = list(), list(), list()\n",
    "\t\t\t\tn = 0"
   ]
  },
  {
   "cell_type": "code",
   "execution_count": 7,
   "metadata": {
    "executionInfo": {
     "elapsed": 35102,
     "status": "ok",
     "timestamp": 1620645023327,
     "user": {
      "displayName": "Gpu User",
      "photoUrl": "",
      "userId": "05020043369902705889"
     },
     "user_tz": -330
    },
    "id": "Rgj4eMtIF4Cz"
   },
   "outputs": [],
   "source": [
    "# paths\n",
    "train_image_caption_path = \"/content/gdrive/MyDrive/Flickr8k_ImageCaptioning/processed_data/train_image_caption_processed.csv\"\n",
    "train_image_bottleneck_feature_path = \"/content/gdrive/MyDrive/Flickr8k_ImageCaptioning/processed_data/train_imagename_bottleneck_feat.csv\"\n",
    "vocabulary_path = \"/content/gdrive/MyDrive/Flickr8k_ImageCaptioning/processed_data/vocabulary.txt\"\n",
    "glove_model_path = \"/content/gdrive/MyDrive/Flickr8k_ImageCaptioning/pre-trained_models/glove.6B.200d.txt\"\n",
    "max_caption_length_path = \"/content/gdrive/MyDrive/Flickr8k_ImageCaptioning/processed_data/max_caption_length.txt\"\n",
    "target_path = \"/content/gdrive/MyDrive/Flickr8k_ImageCaptioning/output/trained_models/\""
   ]
  },
  {
   "cell_type": "code",
   "execution_count": 8,
   "metadata": {
    "colab": {
     "base_uri": "https://localhost:8080/"
    },
    "executionInfo": {
     "elapsed": 35807,
     "status": "ok",
     "timestamp": 1620645024052,
     "user": {
      "displayName": "Gpu User",
      "photoUrl": "",
      "userId": "05020043369902705889"
     },
     "user_tz": -330
    },
    "id": "F4WXkfd4F7uw",
    "outputId": "9cadee6d-bbf5-484e-d6c6-97f4f40538f4"
   },
   "outputs": [
    {
     "name": "stdout",
     "output_type": "stream",
     "text": [
      "Completed reading vocabulary file\n"
     ]
    }
   ],
   "source": [
    "# reading vocabulary\n",
    "vocabulary = list()\n",
    "f_ptr = open(vocabulary_path, 'r')\n",
    "lines = f_ptr.readlines()\n",
    "for line in lines:\n",
    "\tvocabulary.append(line.strip())\n",
    "print(\"Completed reading vocabulary file\")"
   ]
  },
  {
   "cell_type": "code",
   "execution_count": 9,
   "metadata": {
    "colab": {
     "base_uri": "https://localhost:8080/"
    },
    "executionInfo": {
     "elapsed": 35792,
     "status": "ok",
     "timestamp": 1620645024057,
     "user": {
      "displayName": "Gpu User",
      "photoUrl": "",
      "userId": "05020043369902705889"
     },
     "user_tz": -330
    },
    "id": "rOAyCX23GBEX",
    "outputId": "1f6a5603-82f1-4803-fc5b-864389aea4a7"
   },
   "outputs": [
    {
     "name": "stdout",
     "output_type": "stream",
     "text": [
      "Created word-to-index and index-to-word dictionary\n"
     ]
    }
   ],
   "source": [
    "# creating word-to-index and index-to word dictionary\n",
    "wordtoix = dict()\n",
    "ixtoword = dict()\n",
    "#ix = 1\n",
    "for i in range(len(vocabulary)):\n",
    "\twordtoix[vocabulary[i]] = i\n",
    "\tixtoword[i] = vocabulary[i]\n",
    "\t#ix += 1\n",
    "print(\"Created word-to-index and index-to-word dictionary\")"
   ]
  },
  {
   "cell_type": "code",
   "execution_count": 10,
   "metadata": {
    "colab": {
     "base_uri": "https://localhost:8080/"
    },
    "executionInfo": {
     "elapsed": 35777,
     "status": "ok",
     "timestamp": 1620645024064,
     "user": {
      "displayName": "Gpu User",
      "photoUrl": "",
      "userId": "05020043369902705889"
     },
     "user_tz": -330
    },
    "id": "NzGZxdXFfVsJ",
    "outputId": "7a30798c-1076-4cf3-e8c5-998a81937a67"
   },
   "outputs": [
    {
     "name": "stdout",
     "output_type": "stream",
     "text": [
      "wordtoix saved as csv file\n"
     ]
    }
   ],
   "source": [
    "# saving wordtoix as csv file\n",
    "f_ptr = open(target_path + \"wordtoix.csv\", \"w\")\n",
    "for key, value in wordtoix.items():\n",
    "  f_ptr.write(str(key) + \",\" + str(value) + \"\\n\")\n",
    "f_ptr.close()\n",
    "print(\"wordtoix saved as csv file\")"
   ]
  },
  {
   "cell_type": "code",
   "execution_count": 11,
   "metadata": {
    "colab": {
     "base_uri": "https://localhost:8080/"
    },
    "executionInfo": {
     "elapsed": 35757,
     "status": "ok",
     "timestamp": 1620645024070,
     "user": {
      "displayName": "Gpu User",
      "photoUrl": "",
      "userId": "05020043369902705889"
     },
     "user_tz": -330
    },
    "id": "U6f0tLmMi6Oe",
    "outputId": "26477124-c68f-44da-f6ed-2f89e43813b7"
   },
   "outputs": [
    {
     "name": "stdout",
     "output_type": "stream",
     "text": [
      "ixtoword saved as csv file\n"
     ]
    }
   ],
   "source": [
    "# saving ixtoword as csv file\n",
    "f_ptr = open(target_path + \"ixtoword.csv\", \"w\")\n",
    "for key, value in ixtoword.items():\n",
    "  f_ptr.write(str(key) + \",\" + str(value) + \"\\n\")\n",
    "f_ptr.close()\n",
    "print(\"ixtoword saved as csv file\")"
   ]
  },
  {
   "cell_type": "code",
   "execution_count": 12,
   "metadata": {
    "colab": {
     "base_uri": "https://localhost:8080/"
    },
    "executionInfo": {
     "elapsed": 35737,
     "status": "ok",
     "timestamp": 1620645024074,
     "user": {
      "displayName": "Gpu User",
      "photoUrl": "",
      "userId": "05020043369902705889"
     },
     "user_tz": -330
    },
    "id": "15B4PhG0GE5c",
    "outputId": "6a444742-e7bc-4ee7-8ca1-de8ee12d1639"
   },
   "outputs": [
    {
     "name": "stdout",
     "output_type": "stream",
     "text": [
      "Vocabulary Size:  1652\n"
     ]
    }
   ],
   "source": [
    "# getting vocabulary size\n",
    "vocab_size = len(wordtoix) + 1 # 1 is added for '0'\n",
    "print(\"Vocabulary Size: \", vocab_size)"
   ]
  },
  {
   "cell_type": "code",
   "execution_count": 13,
   "metadata": {
    "colab": {
     "base_uri": "https://localhost:8080/"
    },
    "executionInfo": {
     "elapsed": 52500,
     "status": "ok",
     "timestamp": 1620645040855,
     "user": {
      "displayName": "Gpu User",
      "photoUrl": "",
      "userId": "05020043369902705889"
     },
     "user_tz": -330
    },
    "id": "JZU6L2bLGIbY",
    "outputId": "9377edd2-65c2-4080-a539-24225920b4d2"
   },
   "outputs": [
    {
     "name": "stdout",
     "output_type": "stream",
     "text": [
      "Loaded GloVe model\n"
     ]
    }
   ],
   "source": [
    "# loading GloVe model\n",
    "glove_model = dict()\n",
    "glove_data = open(glove_model_path, encoding='utf-8')\n",
    "for line in glove_data:\n",
    "\tvalues = line.split()\n",
    "\tword = values[0]\n",
    "\tfeat = values[1:]\n",
    "\tglove_model[word] = feat\n",
    "print(\"Loaded GloVe model\")"
   ]
  },
  {
   "cell_type": "code",
   "execution_count": 14,
   "metadata": {
    "colab": {
     "base_uri": "https://localhost:8080/"
    },
    "executionInfo": {
     "elapsed": 52485,
     "status": "ok",
     "timestamp": 1620645040858,
     "user": {
      "displayName": "Gpu User",
      "photoUrl": "",
      "userId": "05020043369902705889"
     },
     "user_tz": -330
    },
    "id": "tkKJvSuDGL22",
    "outputId": "9e172ed0-8ac6-4f80-98a4-31ceae896cd9"
   },
   "outputs": [
    {
     "name": "stdout",
     "output_type": "stream",
     "text": [
      "Successfully created Embedding Matrix, i.e., GloVe bottleneck features for each word of vocabulary\n"
     ]
    }
   ],
   "source": [
    "# creating embedding matrix, i.e., glove feature for each word in vocabulary\n",
    "embedding_matrix = np.zeros((vocab_size, EMBEDDING_DIM)) \n",
    "for i in range(len(vocabulary)):\n",
    "\tembedding_vec = glove_model.get(vocabulary[i])\n",
    "\tif(embedding_vec is not None):\n",
    "\t\tembedding_matrix[i] = embedding_vec\n",
    "print(\"Successfully created Embedding Matrix, i.e., GloVe bottleneck features for each word of vocabulary\")"
   ]
  },
  {
   "cell_type": "code",
   "execution_count": 15,
   "metadata": {
    "colab": {
     "base_uri": "https://localhost:8080/"
    },
    "executionInfo": {
     "elapsed": 52470,
     "status": "ok",
     "timestamp": 1620645040862,
     "user": {
      "displayName": "Gpu User",
      "photoUrl": "",
      "userId": "05020043369902705889"
     },
     "user_tz": -330
    },
    "id": "ajzUMH5QmenX",
    "outputId": "2b815b63-5c77-465b-daa9-30cb4f16ba47"
   },
   "outputs": [
    {
     "name": "stdout",
     "output_type": "stream",
     "text": [
      "Successfully saved embedding_matrix.csv\n"
     ]
    }
   ],
   "source": [
    "# saving embedding_matrix\n",
    "savetxt(target_path + \"embedding_matrix.csv\", embedding_matrix, delimiter=',')\n",
    "print(\"Successfully saved embedding_matrix.csv\")"
   ]
  },
  {
   "cell_type": "code",
   "execution_count": 16,
   "metadata": {
    "colab": {
     "base_uri": "https://localhost:8080/"
    },
    "executionInfo": {
     "elapsed": 53147,
     "status": "ok",
     "timestamp": 1620645041557,
     "user": {
      "displayName": "Gpu User",
      "photoUrl": "",
      "userId": "05020043369902705889"
     },
     "user_tz": -330
    },
    "id": "TFiSgoA5GPKv",
    "outputId": "750bf854-7798-422c-aecf-60bc256116d4"
   },
   "outputs": [
    {
     "name": "stdout",
     "output_type": "stream",
     "text": [
      "Successfully read training - image name and processed caption file\n"
     ]
    }
   ],
   "source": [
    "# reading training file (image name and processed captions)\n",
    "train_image_caption = pd.read_csv(train_image_caption_path)\n",
    "print(\"Successfully read training - image name and processed caption file\")"
   ]
  },
  {
   "cell_type": "code",
   "execution_count": 17,
   "metadata": {
    "colab": {
     "base_uri": "https://localhost:8080/"
    },
    "executionInfo": {
     "elapsed": 58040,
     "status": "ok",
     "timestamp": 1620645046468,
     "user": {
      "displayName": "Gpu User",
      "photoUrl": "",
      "userId": "05020043369902705889"
     },
     "user_tz": -330
    },
    "id": "sH1CxYFsGSI2",
    "outputId": "9c0081ec-0b3f-4972-dc4b-1e724f9efa78"
   },
   "outputs": [
    {
     "name": "stdout",
     "output_type": "stream",
     "text": [
      "Sucessfully read training - image name and their InceptionV3 bottleneck feature file\n"
     ]
    }
   ],
   "source": [
    "# reading training - image name and bottleneck feature file\n",
    "train_image_feature = pd.read_csv(train_image_bottleneck_feature_path)\n",
    "print(\"Sucessfully read training - image name and their InceptionV3 bottleneck feature file\")"
   ]
  },
  {
   "cell_type": "code",
   "execution_count": 18,
   "metadata": {
    "colab": {
     "base_uri": "https://localhost:8080/"
    },
    "executionInfo": {
     "elapsed": 60685,
     "status": "ok",
     "timestamp": 1620645049130,
     "user": {
      "displayName": "Gpu User",
      "photoUrl": "",
      "userId": "05020043369902705889"
     },
     "user_tz": -330
    },
    "id": "_C2F-mNtGVY8",
    "outputId": "cc44782f-98ea-4cb8-f560-3882ae1c477f"
   },
   "outputs": [
    {
     "name": "stdout",
     "output_type": "stream",
     "text": [
      "Converting training - image name and feature from dataframe to dicitonary for quick search. Wait...\n",
      "Successfully converted training - image name and feature from dataframe to dictionary\n"
     ]
    }
   ],
   "source": [
    "# converting train_image_feature dataframe to dictionary\n",
    "print(\"Converting training - image name and feature from dataframe to dicitonary for quick search. Wait...\")\n",
    "train_image_feature = train_image_feature.set_index('image').T.to_dict('list')\n",
    "print(\"Successfully converted training - image name and feature from dataframe to dictionary\")"
   ]
  },
  {
   "cell_type": "code",
   "execution_count": 19,
   "metadata": {
    "executionInfo": {
     "elapsed": 60680,
     "status": "ok",
     "timestamp": 1620645049133,
     "user": {
      "displayName": "Gpu User",
      "photoUrl": "",
      "userId": "05020043369902705889"
     },
     "user_tz": -330
    },
    "id": "x54Y-rajGY7b"
   },
   "outputs": [],
   "source": [
    "# steps required for training\n",
    "steps = (train_image_caption.shape[0]) // NUMBER_PICS_PER_BATCH"
   ]
  },
  {
   "cell_type": "code",
   "execution_count": 20,
   "metadata": {
    "executionInfo": {
     "elapsed": 60677,
     "status": "ok",
     "timestamp": 1620645049137,
     "user": {
      "displayName": "Gpu User",
      "photoUrl": "",
      "userId": "05020043369902705889"
     },
     "user_tz": -330
    },
    "id": "jSPlbsXUGb7W"
   },
   "outputs": [],
   "source": [
    "# extract maximum length of caption - saved by script_preprocessing.py\n",
    "f_ptr = open(max_caption_length_path, 'r')\n",
    "line = f_ptr.readlines()\n",
    "max_caption_length = int(line[0].split(\":\")[1].strip())"
   ]
  },
  {
   "cell_type": "code",
   "execution_count": 21,
   "metadata": {
    "executionInfo": {
     "elapsed": 67108,
     "status": "ok",
     "timestamp": 1620645055575,
     "user": {
      "displayName": "Gpu User",
      "photoUrl": "",
      "userId": "05020043369902705889"
     },
     "user_tz": -330
    },
    "id": "MvamdU_ZGe2a"
   },
   "outputs": [],
   "source": [
    "# defining model\n",
    "inputs1 = Input(shape=(2048,))\n",
    "fe1 = Dropout(0.5)(inputs1)\n",
    "fe2 = Dense(256, activation='relu')(fe1)\n",
    "inputs2 = Input(shape=(max_caption_length,))\n",
    "se1 = Embedding(vocab_size, EMBEDDING_DIM, mask_zero=True)(inputs2)\n",
    "se2 = Dropout(0.5)(se1)\n",
    "se3 = LSTM(256)(se2)\n",
    "decoder1 = add([fe2, se3])\n",
    "decoder2 = Dense(256, activation='relu')(decoder1)\n",
    "outputs = Dense(vocab_size, activation='softmax')(decoder2)\n",
    "model = Model(inputs=[inputs1, inputs2], outputs=outputs)"
   ]
  },
  {
   "cell_type": "code",
   "execution_count": 22,
   "metadata": {
    "colab": {
     "base_uri": "https://localhost:8080/"
    },
    "executionInfo": {
     "elapsed": 67112,
     "status": "ok",
     "timestamp": 1620645055597,
     "user": {
      "displayName": "Gpu User",
      "photoUrl": "",
      "userId": "05020043369902705889"
     },
     "user_tz": -330
    },
    "id": "3Lpv5UdiGjcd",
    "outputId": "f1fddbcd-c701-4c0f-8c6b-6e9134a03a4e"
   },
   "outputs": [
    {
     "name": "stdout",
     "output_type": "stream",
     "text": [
      "Model: \"model\"\n",
      "__________________________________________________________________________________________________\n",
      "Layer (type)                    Output Shape         Param #     Connected to                     \n",
      "==================================================================================================\n",
      "input_2 (InputLayer)            [(None, 28)]         0                                            \n",
      "__________________________________________________________________________________________________\n",
      "input_1 (InputLayer)            [(None, 2048)]       0                                            \n",
      "__________________________________________________________________________________________________\n",
      "embedding (Embedding)           (None, 28, 200)      330400      input_2[0][0]                    \n",
      "__________________________________________________________________________________________________\n",
      "dropout (Dropout)               (None, 2048)         0           input_1[0][0]                    \n",
      "__________________________________________________________________________________________________\n",
      "dropout_1 (Dropout)             (None, 28, 200)      0           embedding[0][0]                  \n",
      "__________________________________________________________________________________________________\n",
      "dense (Dense)                   (None, 256)          524544      dropout[0][0]                    \n",
      "__________________________________________________________________________________________________\n",
      "lstm (LSTM)                     (None, 256)          467968      dropout_1[0][0]                  \n",
      "__________________________________________________________________________________________________\n",
      "add (Add)                       (None, 256)          0           dense[0][0]                      \n",
      "                                                                 lstm[0][0]                       \n",
      "__________________________________________________________________________________________________\n",
      "dense_1 (Dense)                 (None, 256)          65792       add[0][0]                        \n",
      "__________________________________________________________________________________________________\n",
      "dense_2 (Dense)                 (None, 1652)         424564      dense_1[0][0]                    \n",
      "==================================================================================================\n",
      "Total params: 1,813,268\n",
      "Trainable params: 1,813,268\n",
      "Non-trainable params: 0\n",
      "__________________________________________________________________________________________________\n"
     ]
    }
   ],
   "source": [
    "# model summary\n",
    "model.summary()"
   ]
  },
  {
   "cell_type": "code",
   "execution_count": 23,
   "metadata": {
    "executionInfo": {
     "elapsed": 67104,
     "status": "ok",
     "timestamp": 1620645055600,
     "user": {
      "displayName": "Gpu User",
      "photoUrl": "",
      "userId": "05020043369902705889"
     },
     "user_tz": -330
    },
    "id": "75wE8v46Gove"
   },
   "outputs": [],
   "source": [
    "# use embedding matrix as weights in layer 2\n",
    "model.layers[2].set_weights([embedding_matrix])\n",
    "model.layers[2].trainable = False\n",
    "model.compile(loss='categorical_crossentropy', optimizer='adam')"
   ]
  },
  {
   "cell_type": "code",
   "execution_count": 24,
   "metadata": {
    "colab": {
     "base_uri": "https://localhost:8080/"
    },
    "executionInfo": {
     "elapsed": 3382570,
     "status": "ok",
     "timestamp": 1620648371084,
     "user": {
      "displayName": "Gpu User",
      "photoUrl": "",
      "userId": "05020043369902705889"
     },
     "user_tz": -330
    },
    "id": "xXDDGZ9OG1N5",
    "outputId": "4653a4a2-21b1-4c93-9d1f-f1a11dab3294"
   },
   "outputs": [
    {
     "name": "stderr",
     "output_type": "stream",
     "text": [
      "/usr/local/lib/python3.7/dist-packages/tensorflow/python/keras/engine/training.py:1844: UserWarning: `Model.fit_generator` is deprecated and will be removed in a future version. Please use `Model.fit`, which supports generators.\n",
      "  warnings.warn('`Model.fit_generator` is deprecated and '\n"
     ]
    },
    {
     "name": "stdout",
     "output_type": "stream",
     "text": [
      "2000/2000 [==============================] - 176s 85ms/step - loss: 4.3092\n",
      "2000/2000 [==============================] - 166s 83ms/step - loss: 3.1491\n",
      "2000/2000 [==============================] - 166s 83ms/step - loss: 2.9442\n",
      "2000/2000 [==============================] - 168s 84ms/step - loss: 2.8222\n",
      "2000/2000 [==============================] - 170s 85ms/step - loss: 2.7366\n",
      "2000/2000 [==============================] - 169s 85ms/step - loss: 2.6704\n",
      "2000/2000 [==============================] - 168s 84ms/step - loss: 2.6183\n",
      "2000/2000 [==============================] - 167s 83ms/step - loss: 2.5762\n",
      "2000/2000 [==============================] - 168s 84ms/step - loss: 2.5420\n",
      "2000/2000 [==============================] - 167s 84ms/step - loss: 2.5111\n",
      "2000/2000 [==============================] - 167s 84ms/step - loss: 2.4843\n",
      "2000/2000 [==============================] - 165s 83ms/step - loss: 2.4624\n",
      "2000/2000 [==============================] - 161s 80ms/step - loss: 2.4396\n",
      "2000/2000 [==============================] - 160s 80ms/step - loss: 2.4242\n",
      "2000/2000 [==============================] - 160s 80ms/step - loss: 2.4069\n",
      "2000/2000 [==============================] - 162s 81ms/step - loss: 2.3914\n",
      "2000/2000 [==============================] - 164s 82ms/step - loss: 2.3790\n",
      "2000/2000 [==============================] - 164s 82ms/step - loss: 2.3654\n",
      "2000/2000 [==============================] - 164s 82ms/step - loss: 2.3544\n",
      "2000/2000 [==============================] - 161s 80ms/step - loss: 2.3454\n"
     ]
    }
   ],
   "source": [
    "# train network\n",
    "for i in range(EPOCHS):\n",
    "\tgenerator = data_generator(train_image_caption, train_image_feature, wordtoix, max_caption_length, vocab_size, NUMBER_PICS_PER_BATCH)\n",
    "\tmodel.fit_generator(generator, epochs=1, steps_per_epoch=steps, verbose=1)\n",
    "\tmodel.save(target_path + 'model_' + str(i) + '.h5')"
   ]
  }
 ],
 "metadata": {
  "accelerator": "GPU",
  "colab": {
   "authorship_tag": "ABX9TyPHuGu85+oUPJLXCrX6eI9o",
   "collapsed_sections": [],
   "name": "training_GColab.ipynb",
   "provenance": []
  },
  "kernelspec": {
   "display_name": "Python 3",
   "language": "python",
   "name": "python3"
  },
  "language_info": {
   "name": "python"
  }
 },
 "nbformat": 4,
 "nbformat_minor": 1
}
